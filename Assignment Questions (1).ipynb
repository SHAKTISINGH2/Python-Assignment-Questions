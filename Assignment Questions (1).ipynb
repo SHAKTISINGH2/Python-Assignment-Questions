{
 "cells": [
  {
   "cell_type": "markdown",
   "id": "cef51cfc-45fd-4228-82d0-048995c9ce6c",
   "metadata": {},
   "source": [
    "Q1. Explain with an example each when to use a for loop and a while loop."
   ]
  },
  {
   "cell_type": "markdown",
   "id": "0157a358-699f-410e-9af4-716aeb6425ce",
   "metadata": {},
   "source": [
    "For Loop\n",
    "Use Case: When you know the number of iterations in advance or need to iterate over a sequence (like a list, tuple, string, or range).\n",
    "\n",
    "Example: Suppose you want to print the numbers from 1 to 5. Since you know the number of iterations (5), a for loop is appropriate."
   ]
  },
  {
   "cell_type": "code",
   "execution_count": 1,
   "id": "dacdc7da-7c0b-46c4-a330-ff5e2118ce4c",
   "metadata": {},
   "outputs": [
    {
     "name": "stdout",
     "output_type": "stream",
     "text": [
      "1\n",
      "2\n",
      "3\n",
      "4\n",
      "5\n"
     ]
    }
   ],
   "source": [
    "for i in range(1, 6):\n",
    "    print(i)"
   ]
  },
  {
   "cell_type": "markdown",
   "id": "34406f76-7856-4c3b-baf3-af796c289343",
   "metadata": {},
   "source": [
    "While Loop\n",
    "Use Case: When you want to repeat an action until a certain condition is met, and you do not necessarily know the number of iterations in advance.\n",
    "\n",
    "Example: Suppose you want to keep asking the user for input until they enter a positive number."
   ]
  },
  {
   "cell_type": "code",
   "execution_count": 2,
   "id": "793be444-db21-45bd-8e05-9447f53bf95d",
   "metadata": {},
   "outputs": [
    {
     "name": "stdin",
     "output_type": "stream",
     "text": [
      "Enter a positive number:  50\n"
     ]
    },
    {
     "name": "stdout",
     "output_type": "stream",
     "text": [
      "You entered a positive number: 50\n"
     ]
    }
   ],
   "source": [
    "number = -1\n",
    "while number <= 0:\n",
    "    number = int(input(\"Enter a positive number: \"))\n",
    "    if number <= 0:\n",
    "        print(\"That's not a positive number. Try again.\")\n",
    "print(f\"You entered a positive number: {number}\")\n"
   ]
  },
  {
   "cell_type": "raw",
   "id": "d47faa51-9cdd-42ca-a8c7-06a0ae371e12",
   "metadata": {},
   "source": [
    "Q2. Write a python program to print the sum and product of the first 10 natural numbers using for\n",
    "and while loop."
   ]
  },
  {
   "cell_type": "code",
   "execution_count": 3,
   "id": "f34ccd36-73bf-4c52-8f90-8b3fece0d96c",
   "metadata": {},
   "outputs": [
    {
     "name": "stdout",
     "output_type": "stream",
     "text": [
      "Using for loop:\n",
      "Sum of first 10 natural numbers: 55\n",
      "Product of first 10 natural numbers: 3628800\n"
     ]
    }
   ],
   "source": [
    "# Sum and product using for loop\n",
    "\n",
    "sum_for = 0\n",
    "product_for = 1\n",
    "\n",
    "for i in range(1, 11):\n",
    "    sum_for += i\n",
    "    product_for *= i\n",
    "\n",
    "print(\"Using for loop:\")\n",
    "print(f\"Sum of first 10 natural numbers: {sum_for}\")\n",
    "print(f\"Product of first 10 natural numbers: {product_for}\")\n"
   ]
  },
  {
   "cell_type": "code",
   "execution_count": 4,
   "id": "291009e9-80c4-4251-b956-c66b32db3ca8",
   "metadata": {},
   "outputs": [
    {
     "name": "stdout",
     "output_type": "stream",
     "text": [
      "Using while loop:\n",
      "Sum of first 10 natural numbers: 55\n",
      "Product of first 10 natural numbers: 3628800\n"
     ]
    }
   ],
   "source": [
    "# Sum and product using while loop\n",
    "\n",
    "sum_while = 0\n",
    "product_while = 1\n",
    "i = 1\n",
    "\n",
    "while i <= 10:\n",
    "    sum_while += i\n",
    "    product_while *= i\n",
    "    i += 1\n",
    "\n",
    "print(\"Using while loop:\")\n",
    "print(f\"Sum of first 10 natural numbers: {sum_while}\")\n",
    "print(f\"Product of first 10 natural numbers: {product_while}\")\n"
   ]
  },
  {
   "cell_type": "markdown",
   "id": "0014423c-c574-451a-9452-aa758e571e72",
   "metadata": {},
   "source": [
    "Q3. Create a python program to compute the electricity bill for a household.The per-unit charges in rupees are as follows: For the first 100 units, the user will be charged Rs. 4.5 per\n",
    "unit, for the next 100 units, the user will be charged Rs. 6 per unit, and for the next 100 units, the user will\n",
    "be charged Rs. 10 per unit, After 300 units and above the user will be charged Rs. 20 per unit.\n",
    "You are required to take the units of electricity consumed in a month from the user as input.\n",
    "Your program must pass this test case: when the unit of electricity consumed by the user in a month is\n",
    "310, the total electricity bill should be 2250."
   ]
  },
  {
   "cell_type": "code",
   "execution_count": 6,
   "id": "3c835af5-f770-4a1f-8f38-968f6adeffbe",
   "metadata": {},
   "outputs": [
    {
     "name": "stdin",
     "output_type": "stream",
     "text": [
      "Enter the number of units consumed:  40\n"
     ]
    },
    {
     "name": "stdout",
     "output_type": "stream",
     "text": [
      "The total electricity bill is: Rs. 180.00\n"
     ]
    }
   ],
   "source": [
    "def calculate_electricity_bill(units):\n",
    "    bill = 0\n",
    "\n",
    "    if units <= 100:\n",
    "        bill = units * 4.5\n",
    "    elif units <= 200:\n",
    "        bill = (100 * 4.5) + ((units - 100) * 6)\n",
    "    elif units <= 300:\n",
    "        bill = (100 * 4.5) + (100 * 6) + ((units - 200) * 10)\n",
    "    else:\n",
    "        bill = (100 * 4.5) + (100 * 6) + (100 * 10) + ((units - 300) * 20)\n",
    "    \n",
    "    return bill\n",
    "\n",
    "# Example usage\n",
    "units_consumed = int(input(\"Enter the number of units consumed: \"))\n",
    "bill_amount = calculate_electricity_bill(units_consumed)\n",
    "print(f\"The total electricity bill is: Rs. {bill_amount:.2f}\")\n"
   ]
  },
  {
   "cell_type": "raw",
   "id": "dcd5a285-5700-41bb-ba70-7552f26c6371",
   "metadata": {},
   "source": [
    "Q4. Create a list of numbers from 1 to 100. Use for loop and while loop to calculate the cube of each\n",
    "number and if the cube of that number is divisible by 4 or 5 then append that number in a list and print\n",
    "that list."
   ]
  },
  {
   "cell_type": "code",
   "execution_count": 8,
   "id": "765d1b36-53c1-44ab-ad4c-c751be817690",
   "metadata": {},
   "outputs": [
    {
     "name": "stdout",
     "output_type": "stream",
     "text": [
      "Using for loop:\n",
      "[2, 4, 5, 6, 8, 10, 12, 14, 15, 16, 18, 20, 22, 24, 25, 26, 28, 30, 32, 34, 35, 36, 38, 40, 42, 44, 45, 46, 48, 50, 52, 54, 55, 56, 58, 60, 62, 64, 65, 66, 68, 70, 72, 74, 75, 76, 78, 80, 82, 84, 85, 86, 88, 90, 92, 94, 95, 96, 98, 100]\n"
     ]
    }
   ],
   "source": [
    "numbers = list(range(1, 101))\n",
    "divisible_by_4_or_5 = []\n",
    "\n",
    "for number in numbers:\n",
    "    cube = number ** 3\n",
    "    if cube % 4 == 0 or cube % 5 == 0:\n",
    "        divisible_by_4_or_5.append(number)\n",
    "\n",
    "print(\"Using for loop:\")\n",
    "print(divisible_by_4_or_5)\n"
   ]
  },
  {
   "cell_type": "code",
   "execution_count": 9,
   "id": "c692f2f1-ee65-4891-8817-ed6fbb15ce02",
   "metadata": {},
   "outputs": [
    {
     "name": "stdout",
     "output_type": "stream",
     "text": [
      "Using while loop:\n",
      "[2, 4, 5, 6, 8, 10, 12, 14, 15, 16, 18, 20, 22, 24, 25, 26, 28, 30, 32, 34, 35, 36, 38, 40, 42, 44, 45, 46, 48, 50, 52, 54, 55, 56, 58, 60, 62, 64, 65, 66, 68, 70, 72, 74, 75, 76, 78, 80, 82, 84, 85, 86, 88, 90, 92, 94, 95, 96, 98, 100]\n"
     ]
    }
   ],
   "source": [
    "numbers = list(range(1, 101))\n",
    "divisible_by_4_or_5 = []\n",
    "\n",
    "i = 0\n",
    "while i < len(numbers):\n",
    "    number = numbers[i]\n",
    "    cube = number ** 3\n",
    "    if cube % 4 == 0 or cube % 5 == 0:\n",
    "        divisible_by_4_or_5.append(number)\n",
    "    i += 1\n",
    "\n",
    "print(\"Using while loop:\")\n",
    "print(divisible_by_4_or_5)\n"
   ]
  },
  {
   "cell_type": "raw",
   "id": "c8d3d604-323a-4519-9b03-38fc86a5738e",
   "metadata": {},
   "source": [
    "Q5. Write a program to filter count vowels in the below-given string.\n",
    "string = \"I want to become a data scientist\""
   ]
  },
  {
   "cell_type": "code",
   "execution_count": null,
   "id": "635458e8-86a5-47e5-8b34-4fc06fe88edb",
   "metadata": {},
   "outputs": [
    {
     "name": "stdout",
     "output_type": "stream",
     "text": [
      "The number of vowels in the string is: 12\n"
     ]
    }
   ],
   "source": [
    "def count_vowels(input_string):\n",
    "    vowels = \"aeiouAEIOU\"\n",
    "    count = 0\n",
    "    for char in input_string:\n",
    "        if char in vowels:\n",
    "            count += 1\n",
    "    return count\n",
    "\n",
    "# Given string\n",
    "string = \"I want to become a data scientist\"\n",
    "\n",
    "# Counting vowels\n",
    "vowel_count = count_vowels(string)\n",
    "\n",
    "print(f\"The number of vowels in the string is: {vowel_count}\")\n"
   ]
  }
 ],
 "metadata": {
  "kernelspec": {
   "display_name": "Python 3 (ipykernel)",
   "language": "python",
   "name": "python3"
  },
  "language_info": {
   "codemirror_mode": {
    "name": "ipython",
    "version": 3
   },
   "file_extension": ".py",
   "mimetype": "text/x-python",
   "name": "python",
   "nbconvert_exporter": "python",
   "pygments_lexer": "ipython3",
   "version": "3.10.8"
  }
 },
 "nbformat": 4,
 "nbformat_minor": 5
}
